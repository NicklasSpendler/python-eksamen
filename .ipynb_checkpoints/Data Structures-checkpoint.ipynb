{
 "cells": [
  {
   "cell_type": "code",
   "execution_count": 1,
   "id": "6b7ec635",
   "metadata": {},
   "outputs": [],
   "source": [
    "def printAll(myCollection):\n",
    "    for a in myCollection:\n",
    "        print(a)"
   ]
  },
  {
   "cell_type": "code",
   "execution_count": 19,
   "id": "ced167e6",
   "metadata": {},
   "outputs": [],
   "source": [
    "class Student:\n",
    "    def __init__(self, name):\n",
    "        self.name = name\n",
    "        \n",
    "    def __repr__(self):\n",
    "        return '{}'.format(self.name)\n",
    "        \n",
    "class Teacher:\n",
    "    def __init__(self, name, students):\n",
    "        self.name = name\n",
    "        self.students = students\n",
    "    \n",
    "    def __repr__(self):\n",
    "        return '{}'.format(self.name)\n",
    "    \n",
    "    def __str__(self):\n",
    "        return '{}'.format(self.name)\n",
    "    "
   ]
  },
  {
   "cell_type": "code",
   "execution_count": 3,
   "id": "cd6e7159",
   "metadata": {},
   "outputs": [],
   "source": [
    "#Data Structures"
   ]
  },
  {
   "cell_type": "code",
   "execution_count": 25,
   "id": "71d4d386",
   "metadata": {},
   "outputs": [
    {
     "name": "stdout",
     "output_type": "stream",
     "text": [
      "horse\n"
     ]
    },
    {
     "data": {
      "text/plain": [
       "'\\nmyIterList = iter(mylist)\\n\\nwhile True:\\n    try:\\n        item = next(myIterList)\\n        print(item)\\n    except StopIteration:\\n        break\\n        \\n'"
      ]
     },
     "execution_count": 25,
     "metadata": {},
     "output_type": "execute_result"
    }
   ],
   "source": [
    "mytuple = (\"apple\", \"banana\", \"cherry\", \"cherry\")\n",
    "mylist = [\"horse\", \"dog\", \"cat\", \"cat\"]\n",
    "myset = {\"house\", \"appartment\", \"shed\", \"shed\"}\n",
    "mydict = {\n",
    "    \"brand\": \"Ford\",\n",
    "    \"model\": \"Mustang\",\n",
    "    \"year\": 1964,\n",
    "    \"year\": 1967\n",
    "}\n",
    "\n",
    "'''\n",
    "myIterList = iter(mylist)\n",
    "\n",
    "while True:\n",
    "    try:\n",
    "        item = next(myIterList)\n",
    "        print(item)\n",
    "    except StopIteration:\n",
    "        break\n",
    "        \n",
    "'''"
   ]
  },
  {
   "cell_type": "code",
   "execution_count": 6,
   "id": "1751bacc",
   "metadata": {},
   "outputs": [
    {
     "name": "stdout",
     "output_type": "stream",
     "text": [
      "('apple', 'banana', 'cherry', 'cherry') \n",
      " ['horse', 'dog', 'cat', 'cat'] \n",
      " {'house', 'shed', 'appartment'} \n",
      " {'brand': 'Ford', 'model': 'Mustang', 'year': 1967}\n"
     ]
    }
   ],
   "source": [
    "print(mytuple,'\\n',mylist,'\\n',myset,'\\n',mydict)"
   ]
  },
  {
   "cell_type": "code",
   "execution_count": 12,
   "id": "e61252ec",
   "metadata": {},
   "outputs": [
    {
     "name": "stdout",
     "output_type": "stream",
     "text": [
      "['deer', 'dog', 'cat', 'cat']\n",
      "('pear', 'banana', 'cherry', 'cherry')\n"
     ]
    }
   ],
   "source": [
    "mylist[0] = \"deer\"\n",
    "print(mylist)\n"
   ]
  },
  {
   "cell_type": "code",
   "execution_count": 16,
   "id": "ab18ed2d",
   "metadata": {},
   "outputs": [
    {
     "name": "stdout",
     "output_type": "stream",
     "text": [
      "pear \n",
      " deer \n",
      " Ford\n"
     ]
    }
   ],
   "source": [
    "#Man kan ikke få retuneret et index af set.\n",
    "print(mytuple[0],'\\n',mylist[0],'\\n',mydict[\"brand\"])"
   ]
  },
  {
   "cell_type": "code",
   "execution_count": null,
   "id": "9310cd19",
   "metadata": {},
   "outputs": [],
   "source": [
    "#List Comprehension"
   ]
  },
  {
   "cell_type": "code",
   "execution_count": 13,
   "id": "cd9c810c",
   "metadata": {},
   "outputs": [
    {
     "name": "stdout",
     "output_type": "stream",
     "text": [
      "[10, 11, 12, 13, 14, 15, 16, 17, 18, 19, 20, 21, 22, 23, 24, 25, 26, 27, 28, 29, 30, 31, 32, 33, 34, 35, 36, 37, 38, 39, 40, 41, 42, 43, 44, 45, 46, 47, 48, 49, 50, 51, 52, 53, 54, 55, 56, 57, 58, 59, 60, 61, 62, 63, 64, 65, 66, 67, 68, 69, 70, 71, 72, 73, 74, 75, 76, 77, 78, 79, 80, 81, 82, 83, 84, 85, 86, 87, 88, 89, 90, 91, 92, 93, 94, 95, 96, 97, 98, 99]\n"
     ]
    }
   ],
   "source": [
    "mynumbers = []\n",
    "myrange = range (100)\n",
    "for x in myrange:\n",
    "    if x >= 10:\n",
    "        mynumbers.append(x)\n",
    "\n",
    "print(mynumbers)"
   ]
  },
  {
   "cell_type": "code",
   "execution_count": 14,
   "id": "92f77032",
   "metadata": {},
   "outputs": [
    {
     "name": "stdout",
     "output_type": "stream",
     "text": [
      "[10, 11, 12, 13, 14, 15, 16, 17, 18, 19, 20, 21, 22, 23, 24, 25, 26, 27, 28, 29, 30, 31, 32, 33, 34, 35, 36, 37, 38, 39, 40, 41, 42, 43, 44, 45, 46, 47, 48, 49, 50, 51, 52, 53, 54, 55, 56, 57, 58, 59, 60, 61, 62, 63, 64, 65, 66, 67, 68, 69, 70, 71, 72, 73, 74, 75, 76, 77, 78, 79, 80, 81, 82, 83, 84, 85, 86, 87, 88, 89, 90, 91, 92, 93, 94, 95, 96, 97, 98, 99]\n"
     ]
    }
   ],
   "source": [
    "mynumbers = []\n",
    "myrange = range(100)\n",
    "mynumbers = [x for x in myrange if x >= 10]\n",
    "print(mynumbers)"
   ]
  },
  {
   "cell_type": "code",
   "execution_count": 20,
   "id": "2d4719a0",
   "metadata": {},
   "outputs": [
    {
     "name": "stdout",
     "output_type": "stream",
     "text": [
      "[(Olaf, Bob), (Olaf, Harald), (Olaf, Knud), (Bent, Harald), (Bent, Knud), (Bent, Lis)]\n"
     ]
    }
   ],
   "source": [
    "students = []\n",
    "\n",
    "student1 = Student(\"Bob\")\n",
    "student2 = Student(\"Harald\")\n",
    "student3 = Student(\"Knud\")\n",
    "student4 = Student(\"Lis\")\n",
    "\n",
    "students.append(student1)\n",
    "students.append(student2)\n",
    "students.append(student3)\n",
    "students.append(student4)\n",
    "\n",
    "teachers = []\n",
    "\n",
    "teacher1 = Teacher(\"Olaf\", [student1, student2, student3])\n",
    "teacher2 = Teacher(\"Bent\", [student2, student3, student4])\n",
    "\n",
    "teachers.append(teacher1)\n",
    "teachers.append(teacher2)\n",
    "\n",
    "\n",
    "compre = [(t, s) for t in teachers for s in students if s in t.students]\n",
    "\n",
    "print(compre)"
   ]
  },
  {
   "cell_type": "code",
   "execution_count": null,
   "id": "1f906bfa",
   "metadata": {},
   "outputs": [],
   "source": [
    "#iterable"
   ]
  },
  {
   "cell_type": "code",
   "execution_count": 21,
   "id": "0196fe20",
   "metadata": {},
   "outputs": [
    {
     "name": "stdout",
     "output_type": "stream",
     "text": [
      "___Tuple___\n",
      "pear\n",
      "banana\n",
      "cherry\n",
      "cherry\n",
      "___List___\n",
      "deer\n",
      "dog\n",
      "cat\n",
      "cat\n",
      "___Set___\n",
      "house\n",
      "shed\n",
      "appartment\n",
      "___Dict___\n",
      "brand\n",
      "model\n",
      "year\n"
     ]
    }
   ],
   "source": [
    "print(\"___Tuple___\")\n",
    "printAll(mytuple)\n",
    "print(\"___List___\")\n",
    "printAll(mylist)\n",
    "print(\"___Set___\")\n",
    "printAll(myset)\n",
    "print(\"___Dict___\")\n",
    "printAll(mydict)"
   ]
  },
  {
   "cell_type": "code",
   "execution_count": null,
   "id": "83ecd729",
   "metadata": {},
   "outputs": [],
   "source": []
  }
 ],
 "metadata": {
  "kernelspec": {
   "display_name": "Python 3 (ipykernel)",
   "language": "python",
   "name": "python3"
  },
  "language_info": {
   "codemirror_mode": {
    "name": "ipython",
    "version": 3
   },
   "file_extension": ".py",
   "mimetype": "text/x-python",
   "name": "python",
   "nbconvert_exporter": "python",
   "pygments_lexer": "ipython3",
   "version": "3.9.7"
  }
 },
 "nbformat": 4,
 "nbformat_minor": 5
}
