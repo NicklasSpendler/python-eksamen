{
 "cells": [
  {
   "cell_type": "code",
   "execution_count": 10,
   "id": "8af14f4e",
   "metadata": {},
   "outputs": [],
   "source": [
    "#Node\n",
    "class Node:\n",
    "    def __init__(self, data):\n",
    "        self.data = data;\n",
    "        self.next = None;\n",
    "\n",
    "    def __repr__(self):\n",
    "        return f'{self.__dict__}';"
   ]
  },
  {
   "cell_type": "code",
   "execution_count": 11,
   "id": "2b11bb8a",
   "metadata": {},
   "outputs": [],
   "source": [
    "class LinkedList:\n",
    "    def __init__(self):\n",
    "        self.head = None;\n",
    "        self.count = 0;\n",
    "\n",
    "    def append(self, x):\n",
    "        newNode = Node(x);\n",
    "\n",
    "        if self.head == None:\n",
    "            self.head = newNode;\n",
    "\n",
    "            self.count += 1;\n",
    "            return;\n",
    "\n",
    "        n = self.head;\n",
    "        while(n.next != None):\n",
    "            n = n.next;\n",
    "        n.next = newNode;\n",
    "\n",
    "        self.count += 1;\n",
    "\n",
    "    def remove(self, x):\n",
    "        n = self.head;\n",
    "\n",
    "        previousNode = None;\n",
    "\n",
    "        while n != None:\n",
    "            if n.data == x:\n",
    "                break\n",
    "            \n",
    "            previousNode = n\n",
    "            n = n.next\n",
    "\n",
    "        if n == None:\n",
    "            print(\"Value not found\")\n",
    "\n",
    "        #Hvis previous er none betyder det vi er på den første node\n",
    "        if previousNode == None:\n",
    "            self.head = n.next\n",
    "            self.count -= 1\n",
    "        else:\n",
    "            previousNode.next = n.next;\n",
    "            self.count -= 1\n",
    "\n",
    "    def __len__(self):\n",
    "        return self.count\n",
    "    \n",
    "\n",
    "    def __str__(self):\n",
    "        returnedString = \"\";\n",
    "\n",
    "        if self.head == None:\n",
    "            print(\"This LinkedList is empty\");\n",
    "            return\n",
    "        \n",
    "        n = self.head;\n",
    "        returnedString += n.data + \", \";\n",
    "        while n.next != None:\n",
    "            n = n.next;\n",
    "            returnedString += n.data + \", \";\n",
    "        \n",
    "        return \"[\"+returnedString+\"]\";"
   ]
  },
  {
   "cell_type": "code",
   "execution_count": 12,
   "id": "85206611",
   "metadata": {},
   "outputs": [
    {
     "name": "stdout",
     "output_type": "stream",
     "text": [
      "[hund, kat, hest, ]\n",
      "3\n",
      "[hund, kat, ]\n",
      "2\n"
     ]
    },
    {
     "ename": "AttributeError",
     "evalue": "'generator' object has no attribute 'value'",
     "output_type": "error",
     "traceback": [
      "\u001b[1;31m---------------------------------------------------------------------------\u001b[0m",
      "\u001b[1;31mAttributeError\u001b[0m                            Traceback (most recent call last)",
      "\u001b[1;32mC:\\Users\\EPICSL~1\\AppData\\Local\\Temp/ipykernel_5836/1868074661.py\u001b[0m in \u001b[0;36m<module>\u001b[1;34m\u001b[0m\n\u001b[0;32m     16\u001b[0m \u001b[1;33m\u001b[0m\u001b[0m\n\u001b[0;32m     17\u001b[0m \u001b[1;32mfor\u001b[0m \u001b[0mn\u001b[0m \u001b[1;32min\u001b[0m \u001b[0mnewLinkedList\u001b[0m\u001b[1;33m:\u001b[0m\u001b[1;33m\u001b[0m\u001b[1;33m\u001b[0m\u001b[0m\n\u001b[1;32m---> 18\u001b[1;33m     \u001b[0mprint\u001b[0m\u001b[1;33m(\u001b[0m\u001b[0mn\u001b[0m\u001b[1;33m.\u001b[0m\u001b[0mvalue\u001b[0m\u001b[1;33m)\u001b[0m\u001b[1;33m\u001b[0m\u001b[1;33m\u001b[0m\u001b[0m\n\u001b[0m",
      "\u001b[1;31mAttributeError\u001b[0m: 'generator' object has no attribute 'value'"
     ]
    }
   ],
   "source": [
    "newLinkedList = LinkedList()\n",
    "\n",
    "newLinkedList.append(\"hund\")\n",
    "newLinkedList.append(\"kat\")\n",
    "newLinkedList.append(\"hest\")\n",
    "\n",
    "\n",
    "print(newLinkedList)\n",
    "\n",
    "print(len(newLinkedList))\n",
    "\n",
    "newLinkedList.remove(\"hest\")\n",
    "\n",
    "print(newLinkedList)\n",
    "print(len(newLinkedList))"
   ]
  }
 ],
 "metadata": {
  "kernelspec": {
   "display_name": "Python 3 (ipykernel)",
   "language": "python",
   "name": "python3"
  },
  "language_info": {
   "codemirror_mode": {
    "name": "ipython",
    "version": 3
   },
   "file_extension": ".py",
   "mimetype": "text/x-python",
   "name": "python",
   "nbconvert_exporter": "python",
   "pygments_lexer": "ipython3",
   "version": "3.9.7"
  }
 },
 "nbformat": 4,
 "nbformat_minor": 5
}
