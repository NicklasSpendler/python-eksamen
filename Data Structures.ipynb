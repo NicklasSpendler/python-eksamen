{
 "cells": [
  {
   "cell_type": "code",
   "execution_count": 27,
   "id": "6b7ec635",
   "metadata": {},
   "outputs": [],
   "source": [
    "def printAll(myCollection):\n",
    "    for a in myCollection:\n",
    "        print(a)"
   ]
  },
  {
   "cell_type": "code",
   "execution_count": 28,
   "id": "cd6e7159",
   "metadata": {},
   "outputs": [],
   "source": [
    "#Data Structures"
   ]
  },
  {
   "cell_type": "code",
   "execution_count": 1,
   "id": "71d4d386",
   "metadata": {},
   "outputs": [
    {
     "ename": "TypeError",
     "evalue": "'list' object is not an iterator",
     "output_type": "error",
     "traceback": [
      "\u001b[1;31m---------------------------------------------------------------------------\u001b[0m",
      "\u001b[1;31mTypeError\u001b[0m                                 Traceback (most recent call last)",
      "\u001b[1;32mC:\\Users\\EPICSL~1\\AppData\\Local\\Temp/ipykernel_1788/1945379938.py\u001b[0m in \u001b[0;36m<module>\u001b[1;34m\u001b[0m\n\u001b[0;32m      9\u001b[0m }\n\u001b[0;32m     10\u001b[0m \u001b[1;33m\u001b[0m\u001b[0m\n\u001b[1;32m---> 11\u001b[1;33m \u001b[0mprint\u001b[0m\u001b[1;33m(\u001b[0m\u001b[0mnext\u001b[0m\u001b[1;33m(\u001b[0m\u001b[0mmylist\u001b[0m\u001b[1;33m)\u001b[0m\u001b[1;33m)\u001b[0m\u001b[1;33m\u001b[0m\u001b[1;33m\u001b[0m\u001b[0m\n\u001b[0m\u001b[0;32m     12\u001b[0m \u001b[1;33m\u001b[0m\u001b[0m\n\u001b[0;32m     13\u001b[0m \u001b[0mmyIterList\u001b[0m \u001b[1;33m=\u001b[0m \u001b[0miter\u001b[0m\u001b[1;33m(\u001b[0m\u001b[0mmylist\u001b[0m\u001b[1;33m)\u001b[0m\u001b[1;33m\u001b[0m\u001b[1;33m\u001b[0m\u001b[0m\n",
      "\u001b[1;31mTypeError\u001b[0m: 'list' object is not an iterator"
     ]
    }
   ],
   "source": [
    "mytuple = (\"apple\", \"banana\", \"cherry\", \"cherry\")\n",
    "mylist = [\"horse\", \"dog\", \"cat\", \"cat\"]\n",
    "myset = {\"house\", \"appartment\", \"shed\", \"shed\"}\n",
    "mydict = {\n",
    "    \"brand\": \"Ford\",\n",
    "    \"model\": \"Mustang\",\n",
    "    \"year\": 1964,\n",
    "    \"year\": 1964\n",
    "}\n",
    "\n",
    "\n",
    "myIterList = iter(mylist)\n",
    "\n",
    "while True:\n",
    "    try:\n",
    "        item = next(myIterList)\n",
    "        print(item)\n",
    "    except StopIteration:\n",
    "        break"
   ]
  },
  {
   "cell_type": "code",
   "execution_count": null,
   "id": "cec7a1c3",
   "metadata": {},
   "outputs": [],
   "source": []
  },
  {
   "cell_type": "code",
   "execution_count": 30,
   "id": "1751bacc",
   "metadata": {},
   "outputs": [
    {
     "name": "stdout",
     "output_type": "stream",
     "text": [
      "('apple', 'banana', 'cherry', 'cherry') \n",
      " ['horse', 'dog', 'cat', 'cat'] \n",
      " {'shed', 'appartment', 'house'} \n",
      " {'brand': 'Ford', 'model': 'Mustang', 'year': 1964}\n"
     ]
    }
   ],
   "source": [
    "print(mytuple,'\\n',mylist,'\\n',myset,'\\n',mydict)"
   ]
  },
  {
   "cell_type": "code",
   "execution_count": 31,
   "id": "e61252ec",
   "metadata": {},
   "outputs": [
    {
     "name": "stdout",
     "output_type": "stream",
     "text": [
      "['deer', 'dog', 'cat', 'cat']\n"
     ]
    }
   ],
   "source": [
    "mylist[0] = \"deer\"\n",
    "print(mylist)\n",
    "\n",
    "#Lav eksempel på hvordan man kan ændre en værdi hvis man laver det om til en lsite"
   ]
  },
  {
   "cell_type": "code",
   "execution_count": 32,
   "id": "ab18ed2d",
   "metadata": {},
   "outputs": [
    {
     "name": "stdout",
     "output_type": "stream",
     "text": [
      "apple \n",
      " deer \n",
      " Ford\n"
     ]
    }
   ],
   "source": [
    "#Man kan ikke få retuneret et index af set.\n",
    "print(mytuple[0],'\\n',mylist[0],'\\n',mydict[\"brand\"])"
   ]
  },
  {
   "cell_type": "code",
   "execution_count": 33,
   "id": "9310cd19",
   "metadata": {},
   "outputs": [],
   "source": [
    "#List Comprehension"
   ]
  },
  {
   "cell_type": "code",
   "execution_count": 34,
   "id": "cd9c810c",
   "metadata": {},
   "outputs": [
    {
     "name": "stdout",
     "output_type": "stream",
     "text": [
      "[0, 1, 2, 3, 4, 5, 6, 7, 8, 9, 10]\n"
     ]
    }
   ],
   "source": [
    "mynumbers = []\n",
    "myrange = range (100)\n",
    "for x in myrange:\n",
    "    if x <= 10:\n",
    "        mynumbers.append(x)\n",
    "\n",
    "print(mynumbers)"
   ]
  },
  {
   "cell_type": "code",
   "execution_count": 35,
   "id": "92f77032",
   "metadata": {},
   "outputs": [
    {
     "name": "stdout",
     "output_type": "stream",
     "text": [
      "[0, 1, 2, 3, 4, 5, 6, 7, 8, 9, 10]\n"
     ]
    }
   ],
   "source": [
    "mynumbers = []\n",
    "myrange = range(100)\n",
    "mynumbers = [x for x in myrange if x <= 10]\n",
    "print(mynumbers)"
   ]
  },
  {
   "cell_type": "code",
   "execution_count": 36,
   "id": "1f906bfa",
   "metadata": {},
   "outputs": [],
   "source": [
    "#Iterators og Generators i forhold til Collections"
   ]
  },
  {
   "cell_type": "code",
   "execution_count": 37,
   "id": "0196fe20",
   "metadata": {},
   "outputs": [
    {
     "name": "stdout",
     "output_type": "stream",
     "text": [
      "___Tuple___\n",
      "apple\n",
      "banana\n",
      "cherry\n",
      "cherry\n",
      "___List___\n",
      "deer\n",
      "dog\n",
      "cat\n",
      "cat\n",
      "___Set___\n",
      "shed\n",
      "appartment\n",
      "house\n",
      "___Dict___\n",
      "brand\n",
      "model\n",
      "year\n"
     ]
    }
   ],
   "source": [
    "print(\"___Tuple___\")\n",
    "printAll(mytuple)\n",
    "print(\"___List___\")\n",
    "printAll(mylist)\n",
    "print(\"___Set___\")\n",
    "printAll(myset)\n",
    "print(\"___Dict___\")\n",
    "printAll(mydict)"
   ]
  },
  {
   "cell_type": "code",
   "execution_count": null,
   "id": "83ecd729",
   "metadata": {},
   "outputs": [],
   "source": []
  }
 ],
 "metadata": {
  "kernelspec": {
   "display_name": "Python 3 (ipykernel)",
   "language": "python",
   "name": "python3"
  },
  "language_info": {
   "codemirror_mode": {
    "name": "ipython",
    "version": 3
   },
   "file_extension": ".py",
   "mimetype": "text/x-python",
   "name": "python",
   "nbconvert_exporter": "python",
   "pygments_lexer": "ipython3",
   "version": "3.9.7"
  }
 },
 "nbformat": 4,
 "nbformat_minor": 5
}
