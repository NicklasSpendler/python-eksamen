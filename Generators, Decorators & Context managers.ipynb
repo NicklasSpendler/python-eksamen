{
 "cells": [
  {
   "cell_type": "code",
   "execution_count": 22,
   "id": "7993e1e6",
   "metadata": {},
   "outputs": [],
   "source": [
    "#Iterator"
   ]
  },
  {
   "cell_type": "code",
   "execution_count": 1,
   "id": "cea8dc83",
   "metadata": {},
   "outputs": [],
   "source": [
    "class MyRange:\n",
    "    def __init__(self, start, end):\n",
    "        self.value = start\n",
    "        self.end = end\n",
    "    \n",
    "    def __iter__(self):\n",
    "        return self\n",
    "    \n",
    "    def __next__(self):\n",
    "        if self.value >= self.end:\n",
    "            raise StopIteration\n",
    "        current = self.value\n",
    "        self.value += 1\n",
    "        return current"
   ]
  },
  {
   "cell_type": "code",
   "execution_count": 3,
   "id": "bc8863e5",
   "metadata": {},
   "outputs": [
    {
     "ename": "TypeError",
     "evalue": "iter() returned non-iterator of type 'MyRange'",
     "output_type": "error",
     "traceback": [
      "\u001b[1;31m---------------------------------------------------------------------------\u001b[0m",
      "\u001b[1;31mTypeError\u001b[0m                                 Traceback (most recent call last)",
      "\u001b[1;32mC:\\Users\\EPICSL~1\\AppData\\Local\\Temp/ipykernel_32616/4135925718.py\u001b[0m in \u001b[0;36m<module>\u001b[1;34m\u001b[0m\n\u001b[0;32m      1\u001b[0m \u001b[0mnums\u001b[0m \u001b[1;33m=\u001b[0m \u001b[0mMyRange\u001b[0m\u001b[1;33m(\u001b[0m\u001b[1;36m1\u001b[0m\u001b[1;33m,\u001b[0m \u001b[1;36m10\u001b[0m\u001b[1;33m)\u001b[0m\u001b[1;33m\u001b[0m\u001b[1;33m\u001b[0m\u001b[0m\n\u001b[0;32m      2\u001b[0m \u001b[1;33m\u001b[0m\u001b[0m\n\u001b[1;32m----> 3\u001b[1;33m \u001b[1;32mfor\u001b[0m \u001b[0mnum\u001b[0m \u001b[1;32min\u001b[0m \u001b[0mnums\u001b[0m\u001b[1;33m:\u001b[0m\u001b[1;33m\u001b[0m\u001b[1;33m\u001b[0m\u001b[0m\n\u001b[0m\u001b[0;32m      4\u001b[0m     \u001b[0mprint\u001b[0m\u001b[1;33m(\u001b[0m\u001b[0mnum\u001b[0m\u001b[1;33m)\u001b[0m\u001b[1;33m\u001b[0m\u001b[1;33m\u001b[0m\u001b[0m\n\u001b[0;32m      5\u001b[0m \u001b[1;33m\u001b[0m\u001b[0m\n",
      "\u001b[1;31mTypeError\u001b[0m: iter() returned non-iterator of type 'MyRange'"
     ]
    }
   ],
   "source": [
    "nums = MyRange(1, 10)\n",
    "\n",
    "for num in nums:\n",
    "    print(num)\n",
    "\n",
    "print(\"______\")\n",
    "nums = MyRange(1, 10)\n",
    "print(next(nums))\n",
    "print(next(nums))\n",
    "print(next(nums))\n",
    "print(next(nums))"
   ]
  },
  {
   "cell_type": "code",
   "execution_count": 25,
   "id": "7f24df6b",
   "metadata": {},
   "outputs": [
    {
     "name": "stdout",
     "output_type": "stream",
     "text": [
      "1\n",
      "2\n",
      "3\n",
      "4\n",
      "5\n",
      "6\n",
      "7\n",
      "8\n",
      "9\n",
      "___\n",
      "1\n",
      "2\n",
      "3\n"
     ]
    }
   ],
   "source": [
    "#Generator\n",
    "def my_range(start, end):\n",
    "    current = start\n",
    "    while current < end:\n",
    "        yield current\n",
    "        current += 1\n",
    "        \n",
    "nums = my_range(1, 10)\n",
    "        \n",
    "for x in nums:\n",
    "    print(x)\n",
    "print(\"___\")\n",
    "nums = my_range(1, 10)\n",
    "print(next(nums))\n",
    "print(next(nums))\n",
    "print(next(nums))"
   ]
  },
  {
   "cell_type": "code",
   "execution_count": 2,
   "id": "05c2acfa",
   "metadata": {},
   "outputs": [
    {
     "name": "stdout",
     "output_type": "stream",
     "text": [
      "0\n",
      "1\n",
      "2\n",
      "3\n"
     ]
    }
   ],
   "source": [
    "#Generator with list comprehension\n",
    "nums = (x for x in range(100))\n",
    "\n",
    "print(next(nums))\n",
    "print(next(nums))\n",
    "print(next(nums))\n",
    "print(next(nums))"
   ]
  },
  {
   "cell_type": "code",
   "execution_count": 26,
   "id": "c51fc363",
   "metadata": {},
   "outputs": [
    {
     "name": "stdout",
     "output_type": "stream",
     "text": [
      "False\n",
      "True\n"
     ]
    }
   ],
   "source": [
    "#Context Manager using a class\n",
    "class Open_File():\n",
    "    def __init__(self, filename, mode):\n",
    "        self.filename = filename;\n",
    "        self.mode = mode\n",
    "\n",
    "    def __enter__(self):\n",
    "        self.file = open(self.filename, self.mode)\n",
    "        \n",
    "        return self.file\n",
    "        \n",
    "    def __exit__(self, exc_type, exc_val, traceback):\n",
    "        self.file.close()\n",
    "        \n",
    "with Open_File(\"sample.txt\", \"w\") as f:\n",
    "    print(f.closed)\n",
    "    f.write('Hello World 123')\n",
    "\n",
    "print(f.closed)"
   ]
  },
  {
   "cell_type": "code",
   "execution_count": 27,
   "id": "7f1e3e01",
   "metadata": {},
   "outputs": [
    {
     "name": "stdout",
     "output_type": "stream",
     "text": [
      "['hallo.txt', 'world.txt']\n",
      "['hi.txt']\n"
     ]
    }
   ],
   "source": [
    "#Context Manager using a function (Decorator)\n",
    "import os\n",
    "from contextlib import contextmanager\n",
    "\n",
    "@contextmanager\n",
    "def print_dir(path):\n",
    "    try:\n",
    "        cwd = os.getcwd()\n",
    "        os.chdir(path)\n",
    "        yield\n",
    "    finally:\n",
    "        os.chdir(cwd)\n",
    "    \n",
    "\n",
    "with print_dir('sample-folder'):\n",
    "    print(os.listdir())\n",
    "    \n",
    "with print_dir('sample-folder2'):\n",
    "    print(os.listdir())\n",
    "        "
   ]
  },
  {
   "cell_type": "code",
   "execution_count": 28,
   "id": "f0fa0df4",
   "metadata": {},
   "outputs": [
    {
     "name": "stdout",
     "output_type": "stream",
     "text": [
      "start\n",
      "Hello World!\n",
      "End\n",
      "start\n",
      "End\n",
      "4\n"
     ]
    }
   ],
   "source": [
    "#Decorator\n",
    "def myDecorator(func):\n",
    "    def wrapper(*args, **kwargs):\n",
    "        print(\"start\")\n",
    "        func(*args, **kwargs)\n",
    "        print(\"End\")\n",
    "    return wrapper\n",
    "\n",
    "def myDecorator2(func):\n",
    "    def wrapper(*args, **kwargs):\n",
    "        print(\"start\")\n",
    "        val = func(*args, **kwargs)\n",
    "        print(\"End\")\n",
    "        return val\n",
    "    return wrapper\n",
    "\n",
    "\n",
    "@myDecorator\n",
    "def fo(text):\n",
    "    print(text)\n",
    "\n",
    "fo(\"Hello World!\")\n",
    "\n",
    "\n",
    "@myDecorator2\n",
    "def add(x,y):\n",
    "    return x+y\n",
    "\n",
    "print(add(1,3))"
   ]
  }
 ],
 "metadata": {
  "kernelspec": {
   "display_name": "Python 3 (ipykernel)",
   "language": "python",
   "name": "python3"
  },
  "language_info": {
   "codemirror_mode": {
    "name": "ipython",
    "version": 3
   },
   "file_extension": ".py",
   "mimetype": "text/x-python",
   "name": "python",
   "nbconvert_exporter": "python",
   "pygments_lexer": "ipython3",
   "version": "3.9.7"
  }
 },
 "nbformat": 4,
 "nbformat_minor": 5
}
