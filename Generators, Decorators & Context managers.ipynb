{
 "cells": [
  {
   "cell_type": "code",
   "execution_count": null,
   "id": "7993e1e6",
   "metadata": {},
   "outputs": [],
   "source": [
    "#Iterator"
   ]
  },
  {
   "cell_type": "code",
   "execution_count": 1,
   "id": "cea8dc83",
   "metadata": {},
   "outputs": [],
   "source": [
    "class MyRange:\n",
    "    def __init__(self, *args):\n",
    "        if len(args) >= 1:\n",
    "            self.value = 0\n",
    "            self.end = args[0]\n",
    "            \n",
    "        if len(args) >= 2:\n",
    "            self.value = args[0]\n",
    "            self.end = args[1]\n",
    "    \n",
    "    def __iter__(self):\n",
    "        return self\n",
    "    \n",
    "    def __next__(self):\n",
    "        if self.value >= self.end:\n",
    "            raise StopIteration\n",
    "        current = self.value\n",
    "        self.value += 1\n",
    "        return current"
   ]
  },
  {
   "cell_type": "code",
   "execution_count": 77,
   "id": "bc8863e5",
   "metadata": {},
   "outputs": [
    {
     "name": "stdout",
     "output_type": "stream",
     "text": [
      "0\n",
      "1\n",
      "2\n",
      "3\n",
      "4\n",
      "5\n",
      "6\n",
      "7\n",
      "8\n",
      "9\n",
      "______\n",
      "1\n",
      "2\n",
      "3\n"
     ]
    }
   ],
   "source": [
    "nums = MyRange(10)\n",
    "\n",
    "for num in nums:\n",
    "    print(num)\n",
    "\n",
    "print(\"______\")\n",
    "nums = MyRange(1, 10)\n",
    "print(next(nums))\n",
    "print(next(nums))\n",
    "print(next(nums))"
   ]
  },
  {
   "cell_type": "code",
   "execution_count": 84,
   "id": "7f24df6b",
   "metadata": {},
   "outputs": [
    {
     "name": "stdout",
     "output_type": "stream",
     "text": [
      "0\n",
      "1\n",
      "2\n",
      "3\n",
      "4\n",
      "5\n",
      "6\n",
      "7\n",
      "8\n",
      "9\n",
      "___\n",
      "1\n",
      "2\n",
      "3\n"
     ]
    }
   ],
   "source": [
    "#Generator\n",
    "def my_rangeGen(*args):\n",
    "    if len(args) >= 1:\n",
    "        value = 0\n",
    "        end = args[0]\n",
    "\n",
    "    if len(args) >= 2:\n",
    "        value = args[0]\n",
    "        end = args[1]\n",
    "    current = value\n",
    "    while current < end:\n",
    "        yield current\n",
    "        current += 1\n",
    "        \n",
    "nums = my_rangeGen(10)\n",
    "    \n",
    "for x in nums:\n",
    "    print(x)\n",
    "    \n",
    "\n",
    "print(\"___\")\n",
    "nums = my_rangeGen(1, 10)\n",
    "print(next(nums))\n",
    "print(next(nums))\n",
    "print(next(nums))"
   ]
  },
  {
   "cell_type": "code",
   "execution_count": 9,
   "id": "c51fc363",
   "metadata": {},
   "outputs": [
    {
     "name": "stdout",
     "output_type": "stream",
     "text": [
      "False\n",
      "True\n"
     ]
    }
   ],
   "source": [
    "#Context Manager using a class\n",
    "class Open_File():\n",
    "    def __init__(self, filename, mode):\n",
    "        self.filename = filename;\n",
    "        self.mode = mode\n",
    "\n",
    "    def __enter__(self):\n",
    "        self.file = open(self.filename, self.mode)\n",
    "        return self.file\n",
    "        \n",
    "    def __exit__(self, exc_type, exc_val, traceback):\n",
    "        self.file.close()\n",
    "        \n",
    "with Open_File(\"sample.txt\", \"w\") as f:\n",
    "    print(f.closed)\n",
    "    f.write('Hello World 123')\n",
    "\n",
    "print(f.closed)"
   ]
  },
  {
   "cell_type": "code",
   "execution_count": 88,
   "id": "7f1e3e01",
   "metadata": {},
   "outputs": [
    {
     "name": "stdout",
     "output_type": "stream",
     "text": [
      "['hallo.txt', 'world.txt']\n",
      "['hi.txt']\n"
     ]
    }
   ],
   "source": [
    "#Context Manager using a function (Decorator)\n",
    "import os\n",
    "from contextlib import contextmanager\n",
    "\n",
    "@contextmanager\n",
    "def print_dir(path):\n",
    "    try:\n",
    "        currentpath = os.getcwd()\n",
    "        os.chdir(path)\n",
    "        yield\n",
    "    finally:\n",
    "        os.chdir(currentpath)\n",
    "    \n",
    "\n",
    "with print_dir('sample-folder'):\n",
    "    print(os.listdir())\n",
    "    \n",
    "with print_dir('sample-folder2'):\n",
    "    print(os.listdir())\n",
    "        "
   ]
  },
  {
   "cell_type": "code",
   "execution_count": 97,
   "id": "f0fa0df4",
   "metadata": {},
   "outputs": [
    {
     "name": "stdout",
     "output_type": "stream",
     "text": [
      "len of args: 4\n",
      "test\n",
      "Sum is: 56\n"
     ]
    }
   ],
   "source": [
    "import math\n",
    "\n",
    "#Decorator\n",
    "def giveArgsLen(func):\n",
    "    def wrapper(*args):\n",
    "        print(\"len of args: {}\".format(len(args)))\n",
    "        val = func(*args)\n",
    "        return val\n",
    "    return wrapper\n",
    "\n",
    "def beautifyReturn(func):\n",
    "    def wrapper(*args):\n",
    "        val = func(*args)\n",
    "        string = \"Sum is: {}\".format(val)\n",
    "        return string\n",
    "    return wrapper\n",
    "\n",
    "@giveArgsLen\n",
    "@beautifyReturn\n",
    "def addArguments(*args, **kwargs):\n",
    "    val = 0\n",
    "    for num in args:\n",
    "        if math.isnan(num) == False:\n",
    "            val += num\n",
    "    return val\n",
    "\n",
    "    \n",
    "print(addArguments(1, 5, 10, 40));"
   ]
  },
  {
   "cell_type": "code",
   "execution_count": null,
   "id": "cb918541",
   "metadata": {},
   "outputs": [],
   "source": []
  }
 ],
 "metadata": {
  "kernelspec": {
   "display_name": "Python 3 (ipykernel)",
   "language": "python",
   "name": "python3"
  },
  "language_info": {
   "codemirror_mode": {
    "name": "ipython",
    "version": 3
   },
   "file_extension": ".py",
   "mimetype": "text/x-python",
   "name": "python",
   "nbconvert_exporter": "python",
   "pygments_lexer": "ipython3",
   "version": "3.9.7"
  }
 },
 "nbformat": 4,
 "nbformat_minor": 5
}
