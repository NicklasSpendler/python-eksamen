{
 "cells": [
  {
   "cell_type": "code",
   "execution_count": null,
   "id": "ce999c55",
   "metadata": {},
   "outputs": [],
   "source": [
    "#Pythonic OOP"
   ]
  },
  {
   "cell_type": "code",
   "execution_count": null,
   "id": "b9d7603c",
   "metadata": {},
   "outputs": [],
   "source": [
    "class Animal:\n",
    "    def __init__(self, age):\n",
    "        self.__age = age\n",
    "    \n",
    "    def makeSound(self):\n",
    "        print(\"Makes a sound\")\n",
    "    \n",
    "    def get_age(self):\n",
    "        return self.__age\n",
    "    \n",
    "    def set_age(self, x):\n",
    "        self.age = x;"
   ]
  },
  {
   "cell_type": "code",
   "execution_count": null,
   "id": "3dc2b1e8",
   "metadata": {},
   "outputs": [],
   "source": [
    "myAnimal = Animal(16)\n",
    "print(myAnimal.get_age())\n",
    "myAnimal.makeSound()"
   ]
  },
  {
   "cell_type": "code",
   "execution_count": null,
   "id": "020fb775",
   "metadata": {},
   "outputs": [],
   "source": [
    "class Dog(Animal):\n",
    "    def __init__(self, age, name,):\n",
    "        super().__init__(age)\n",
    "        self.__name = name\n",
    "    \n",
    "    def makeSound(self):\n",
    "        print(\"Barf\")\n",
    "        \n",
    "    def get_name(self):\n",
    "        return self.__name\n",
    "    \n",
    "    def set_name(self, x):\n",
    "        self.__name = x;"
   ]
  },
  {
   "cell_type": "code",
   "execution_count": null,
   "id": "411b2ed9",
   "metadata": {},
   "outputs": [],
   "source": [
    "myDog = Dog(5, \"Harald\")\n",
    "print(myDog.get_age())\n",
    "myDog.set_age(6)\n",
    "print(myDog.get_age())"
   ]
  },
  {
   "cell_type": "code",
   "execution_count": null,
   "id": "127cf786",
   "metadata": {},
   "outputs": [],
   "source": [
    "myDog = Dog(3, \"Albert\")\n",
    "print(myDog.get_age())\n",
    "print(myDog.get_name())\n",
    "myDog.makeSound()"
   ]
  }
 ],
 "metadata": {
  "kernelspec": {
   "display_name": "Python 3 (ipykernel)",
   "language": "python",
   "name": "python3"
  },
  "language_info": {
   "codemirror_mode": {
    "name": "ipython",
    "version": 3
   },
   "file_extension": ".py",
   "mimetype": "text/x-python",
   "name": "python",
   "nbconvert_exporter": "python",
   "pygments_lexer": "ipython3",
   "version": "3.9.7"
  }
 },
 "nbformat": 4,
 "nbformat_minor": 5
}
